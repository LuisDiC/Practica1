{
 "cells": [
  {
   "cell_type": "code",
   "execution_count": 1,
   "metadata": {},
   "outputs": [
    {
     "name": "stdout",
     "output_type": "stream",
     "text": [
      "[[('a', 'b'), ('b', 'd'), ('d', 'c'), ('c', 'e'), ('e', 'f'), ('f', 'h')], ['a', 'b', 'd', 'c', 'e', 'f', 'h']]\n"
     ]
    }
   ],
   "source": [
    "import pandas as pd\n",
    "grafo = pd.read_excel('grafos.xlsx', sheet_name='grafo1', index_col=0)\n",
    "grafo = grafo.fillna(0)\n",
    "V = list(grafo.columns)\n",
    "def bll(V):\n",
    "    v1 = 'a'  # Nodo inicial\n",
    "    Vp = [v1]  # Lista de nodos visitados\n",
    "    Ep = []  # Lista de aristas del árbol de expansión\n",
    "    w = v1  # Nodo actual\n",
    "    stack = [w]  # Pila para la búsqueda en profundidad\n",
    "\n",
    "    while stack:\n",
    "        stack.pop()\n",
    "        for v in V:\n",
    "            if grafo[w][v] > 0 and v not in Vp:\n",
    "                Ep.append((w, v))\n",
    "                Vp.append(v)\n",
    "                stack.append(v)\n",
    "                w=v\n",
    "                break\n",
    "    T = [Ep,Vp]\n",
    "            \n",
    "    print(T)\n",
    "    \n",
    "bll(V)\n",
    "\n",
    "\n"
   ]
  },
  {
   "cell_type": "code",
   "execution_count": 3,
   "metadata": {},
   "outputs": [
    {
     "data": {
      "text/plain": [
       "['a', 'b', 'c', 'd', 'e', 'f', 'g', 'h']"
      ]
     },
     "execution_count": 3,
     "metadata": {},
     "output_type": "execute_result"
    }
   ],
   "source": [
    "V"
   ]
  }
 ],
 "metadata": {
  "kernelspec": {
   "display_name": ".venv",
   "language": "python",
   "name": "python3"
  },
  "language_info": {
   "codemirror_mode": {
    "name": "ipython",
    "version": 3
   },
   "file_extension": ".py",
   "mimetype": "text/x-python",
   "name": "python",
   "nbconvert_exporter": "python",
   "pygments_lexer": "ipython3",
   "version": "3.12.4"
  }
 },
 "nbformat": 4,
 "nbformat_minor": 2
}
